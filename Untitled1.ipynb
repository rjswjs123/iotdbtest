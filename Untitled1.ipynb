{
 "cells": [
  {
   "cell_type": "code",
   "execution_count": 1,
   "metadata": {},
   "outputs": [],
   "source": [
    "import sys\n",
    "sys.path.append(\"./utils\")\n",
    "from utils.IoTDBConstants import *\n",
    "from utils.Tablet import Tablet\n",
    "from Session import Session"
   ]
  },
  {
   "cell_type": "code",
   "execution_count": 2,
   "metadata": {},
   "outputs": [
    {
     "name": "stdout",
     "output_type": "stream",
     "text": [
      "setting storage group root.sg_test_01 message: org.apache.iotdb.db.exception.metadata.StorageGroupAlreadySetException: root.sg_test_01 has already been set to storage group\n",
      "setting storage group root.sg_test_02 message: Execute successfully\n",
      "setting storage group root.sg_test_03 message: Execute successfully\n",
      "setting storage group root.sg_test_04 message: Execute successfully\n",
      "delete storage group(s) ['root.sg_test_02'] message: Execute successfully\n",
      "delete storage group(s) ['root.sg_test_03', 'root.sg_test_04'] message: Execute successfully\n",
      "creating time series root.sg_test_01.d_01.s_01 message: org.apache.iotdb.db.exception.metadata.PathAlreadyExistException: Path [root.sg_test_01.d_01.s_01] already exist\n",
      "creating time series root.sg_test_01.d_01.s_02 message: org.apache.iotdb.db.exception.metadata.PathAlreadyExistException: Path [root.sg_test_01.d_01.s_02] already exist\n",
      "creating time series root.sg_test_01.d_01.s_03 message: org.apache.iotdb.db.exception.metadata.PathAlreadyExistException: Path [root.sg_test_01.d_01.s_03] already exist\n",
      "creating multiple time series ['root.sg_test_01.d_01.s_04', 'root.sg_test_01.d_01.s_05', 'root.sg_test_01.d_01.s_06', 'root.sg_test_01.d_01.s_07', 'root.sg_test_01.d_01.s_08', 'root.sg_test_01.d_01.s_09'] message: org.apache.iotdb.db.exception.metadata.PathAlreadyExistException: Path [root.sg_test_01.d_01.s_04] already exist\n",
      "deleting multiple time series ['root.sg_test_01.d_01.s_07', 'root.sg_test_01.d_01.s_08', 'root.sg_test_01.d_01.s_09'] message: Execute successfully\n",
      "insert one record to device root.sg_test_01.d_01 message: Execute successfully\n",
      "insert multiple records to devices ['root.sg_test_01.d_01', 'root.sg_test_01.d_01'] message: Execute successfully\n",
      "All executions done!!\n"
     ]
    }
   ],
   "source": [
    "# creating session connection.\n",
    "ip = \"127.0.0.1\"\n",
    "port_ = \"6667\"\n",
    "username_ = 'root'\n",
    "password_ = 'root'\n",
    "session = Session(ip, port_, username_, password_)\n",
    "session.open(False)\n",
    "\n",
    "# set and delete storage groups\n",
    "session.set_storage_group(\"root.sg_test_01\")\n",
    "session.set_storage_group(\"root.sg_test_02\")\n",
    "session.set_storage_group(\"root.sg_test_03\")\n",
    "session.set_storage_group(\"root.sg_test_04\")\n",
    "session.delete_storage_group(\"root.sg_test_02\")\n",
    "session.delete_storage_groups([\"root.sg_test_03\", \"root.sg_test_04\"])\n",
    "\n",
    "# setting time series.\n",
    "session.create_time_series(\"root.sg_test_01.d_01.s_01\", TSDataType.BOOLEAN, TSEncoding.PLAIN, Compressor.SNAPPY)\n",
    "session.create_time_series(\"root.sg_test_01.d_01.s_02\", TSDataType.INT32, TSEncoding.PLAIN, Compressor.SNAPPY)\n",
    "session.create_time_series(\"root.sg_test_01.d_01.s_03\", TSDataType.INT64, TSEncoding.PLAIN, Compressor.SNAPPY)\n",
    "\n",
    "# setting multiple time series once.\n",
    "ts_path_lst_ = [\"root.sg_test_01.d_01.s_04\", \"root.sg_test_01.d_01.s_05\", \"root.sg_test_01.d_01.s_06\",\n",
    "                \"root.sg_test_01.d_01.s_07\", \"root.sg_test_01.d_01.s_08\", \"root.sg_test_01.d_01.s_09\"]\n",
    "data_type_lst_ = [TSDataType.FLOAT, TSDataType.DOUBLE, TSDataType.TEXT,\n",
    "                  TSDataType.FLOAT, TSDataType.DOUBLE, TSDataType.TEXT]\n",
    "encoding_lst_ = [TSEncoding.PLAIN for _ in range(len(data_type_lst_))]\n",
    "compressor_lst_ = [Compressor.SNAPPY for _ in range(len(data_type_lst_))]\n",
    "session.create_multi_time_series(ts_path_lst_, data_type_lst_, encoding_lst_, compressor_lst_)\n",
    "\n",
    "# delete time series\n",
    "session.delete_time_series([\"root.sg_test_01.d_01.s_07\", \"root.sg_test_01.d_01.s_08\", \"root.sg_test_01.d_01.s_09\"])\n",
    "\n",
    "# insert one record into the database.\n",
    "measurements_ = [\"s_01\", \"s_02\", \"s_03\", \"s_04\", \"s_05\", \"s_06\"]\n",
    "values_ = [False, 10, 11, 1.1, 10011.1, \"test_record\"]\n",
    "data_types_ = [TSDataType.BOOLEAN, TSDataType.INT32, TSDataType.INT64,\n",
    "               TSDataType.FLOAT, TSDataType.DOUBLE, TSDataType.TEXT]\n",
    "session.insert_record(\"root.sg_test_01.d_01\", 1, measurements_, data_types_, values_)\n",
    "\n",
    "# insert multiple records into database\n",
    "measurements_list_ = [[\"s_01\", \"s_02\", \"s_03\", \"s_04\", \"s_05\", \"s_06\"],\n",
    "                      [\"s_01\", \"s_02\", \"s_03\", \"s_04\", \"s_05\", \"s_06\"]]\n",
    "values_list_ = [[False, 22, 33, 4.4, 55.1, \"test_records01\"],\n",
    "                [True, 77, 88, 1.25, 8.125, \"test_records02\"]]\n",
    "data_type_list_ = [data_types_, data_types_]\n",
    "device_ids_ = [\"root.sg_test_01.d_01\", \"root.sg_test_01.d_01\"]\n",
    "session.insert_records(device_ids_, [2, 3], measurements_list_, data_type_list_, values_list_)\n",
    "\n",
    "# close session connection.\n",
    "session.close()\n",
    "print(\"All executions done!!\")"
   ]
  },
  {
   "cell_type": "code",
   "execution_count": null,
   "metadata": {},
   "outputs": [],
   "source": []
  }
 ],
 "metadata": {
  "kernelspec": {
   "display_name": "Python 3",
   "language": "python",
   "name": "python3"
  },
  "language_info": {
   "codemirror_mode": {
    "name": "ipython",
    "version": 3
   },
   "file_extension": ".py",
   "mimetype": "text/x-python",
   "name": "python",
   "nbconvert_exporter": "python",
   "pygments_lexer": "ipython3",
   "version": "3.8.3"
  }
 },
 "nbformat": 4,
 "nbformat_minor": 4
}
